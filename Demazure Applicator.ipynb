{
  "metadata": {
    "kernelspec": {
      "name": "python",
      "display_name": "Python (Pyodide)",
      "language": "python"
    },
    "language_info": {
      "codemirror_mode": {
        "name": "python",
        "version": 3
      },
      "file_extension": ".py",
      "mimetype": "text/x-python",
      "name": "python",
      "nbconvert_exporter": "python",
      "pygments_lexer": "ipython3",
      "version": "3.8"
    }
  },
  "nbformat_minor": 5,
  "nbformat": 4,
  "cells": [
    {
      "cell_type": "code",
      "source": "######################\n### Initialization ###\n######################\n\nClear[\"Global`*\"]\n\n#\n# Defining initial arbitrary boundaries\n#\nlambda = {3, 2, 1}; # Lambda boundary of columns\nrho = {2, 1, 0}; # Rho boundary of rows\nn = 3; # Dimension of model\ndest = 4; \n\n#\n# Factorial Schur weights for normal vertices.\n#\na1 = 1;\na2 = Subscript[z, i] - t * Subscript[\\[Alpha], j];\nb1 = t;\nb2 = Subscript[z, i] + Subscript[\\[Alpha], j];\nc1 = 1;\nc2 = Subscript[z, i] * (t + 1);\n\n#\n# Factorial Schur weights for horizontal cross vertices.\n#\na1c = t * Subscript[z, i] + Subscript[z, k];\na2c = t * Subscript[z, k] + Subscript[z, i];\nb1c = t * (Subscript[z, k] - Subscript[z, i]);\nb2c = Subscript[z, i] - Subscript[z, k];\nc1c = (t + 1) * Subscript[z, k];\nc2c = (t + 1) * Subscript[z, i];",
      "metadata": {
        "trusted": true
      },
      "execution_count": null,
      "outputs": [],
      "id": "2a128d92-27c1-409e-b24a-34459bd5d1a0"
    },
    {
      "cell_type": "code",
      "source": "########################################################################\n### Partition Function of Model with Domain Wall Boundary Conditions ###\n########################################################################\n\n#\n# Computes the bialternate determinant of initial spectral parameters.\n#\ndef compute_bialternate_determinant(): \n    bialternateMatrix = Table[Subscript[a, i, j], {i, n}, {j, n}];\n    bialternateMatrix // MatrixForm;\n\n    For [i = 1, i <= n, i++,\n        For [j = 1, j <= n, j++,\n            entry = 1;\n            For [num = 1, num <= lambda[[i]] + rho[[i]], num++,\n                entry = entry * (Subscript[z, j] + Subscript[\\[Alpha], num]);\n            ];\n            bialternateMatrix[[i, j]] = entry;\n        ];\n    ];\n    bialternateDet = Det[bialternateMatrix];\n    Print[bialternateDet]\n\n#\n# Calculates the Weyl Deformed denominator of initial spectral parameters.\n#\ndef compute_weyl_denominator():\n    weylDenominator = 1;\n    For [i = 1, i <= n, i++,\n        For [j = 1, j <= n, j++,\n            If [i < j, \n                weylDenominator = weylDenominator * (Subscript[z, i] - Subscript[z, j]);\n            ];\n        ];\n    ];\n    Print[weylDenominator]\n    \n#\n# Calculates the partition function of an nxn model with domain wall boundary counditions with \n# Factorial Schur Weights using Weyl's theorem.\n#\ndef calculate_schur _polynomial():\n    variables = {};\n    For [i = 1, i <= n, i++,\n        AppendTo[variables, Subscript[z, i]];\n        AppendTo[variables, Subscript[\\[Alpha], i]];\n    ]\n    AppendTo[variables, t];\n    schurPoly = PolynomialReduce[bialternateDet, weylDenominator, variables][[1]][[1]];\n    Print[schurPoly]\n    ",
      "metadata": {
        "trusted": true
      },
      "execution_count": null,
      "outputs": [],
      "id": "4ff62c54-757b-4e6b-981f-2582fd5148c9"
    },
    {
      "cell_type": "code",
      "source": "##############################################################\n### Partition Function of Models with Arbitrary Boundaries ###\n##############################################################\n\n#\n# This function computes the partition function of a lattice model with boundaries lambda and rho by\n# computing the partition function of a model with domain wall boundary conditions and repeatedly applying\n# Demazure operators. \n#\ndef demazure_operator(): \n    Demazure[a1c_, b2c_, c1c_] := 1\n    result = 1;\n    For [i = 1, i <= n, i++,\n        For [j = 1, j <= n, j++,\n            If [i < j, \n                result = result * (Subscript[z, i] - Subscript[z, j]);\n            ];\n        ];\n    ];\n    variables = {}\n    For [i = 1, i <= n, i++,\n        AppendTo[variables, Subscript[z, i]];\n        AppendTo[variables, Subscript[\\[Alpha], i]];\n    ]\n    Print[variables]\n    For [i = n, i <= dest-1, i++,\n        k = i+ 1;\n        result = (a1c)*(result) - (c1c*(result /. Subscript[z, i]->Subscript[z, i+1]));\n        AppendTo[variables, Subscript[z, i+1]];\n        AppendTo[variables, Subscript[\\[Alpha], i+1]];\n        {result, q} = PolynomialReduce[result, b2c, variables];\n    ];\n    Print[Expand[result]]",
      "metadata": {
        "trusted": true
      },
      "execution_count": null,
      "outputs": [],
      "id": "8f4860ee-3afc-4f50-a3e0-85363c072f0d"
    }
  ]
}